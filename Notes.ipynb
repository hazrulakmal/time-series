{
 "cells": [
  {
   "cell_type": "markdown",
   "id": "89cc0284",
   "metadata": {},
   "source": [
    "Time-series forecasting method is suprisingly tricky to master. Part of the challenges is that time-series forecasting is one of those disciplines that expands from classical statistical techniques to modern deep learning. As a result the number and variety of the methods are overwhelming. \n",
    "\n",
    "Time series forecasting model attempts to predict the value of the target variable for a given entity and at a given time. The two most important dimesndion for understanding time series forecasting model are the nature of the problem and the methods used. \n",
    "\n",
    "Traditional statistical forecasting methods can be classified into three \n",
    "    \n",
    "- __Benchmark Forecasting__ - Methods such as naive forecast and geometric random walk \n",
    "- **Exponential Smoothing Forecasting** - Methods that remove variability within a series such as simple exponential smoothing and Holt's linear trend \n",
    "- **Autoregressive Forecasing** - Methods that focus on observations from previous several steps in several layers of regressive model such as ARIMA and SARIMA \n",
    "    \n",
    "Techniques such as *convolutional neural networks* (CNNs), *recurrent neural networks* (RNNs) and even *attention-based* models are rapidly expanding the different categories of time-series forecasting techniques. These days, it’s very common to find techniques such as long-short-term memory networks (LSTMs) and CNNs attacking the same problems typically handled by models such as ARIMA and SARIMA."
   ]
  },
  {
   "cell_type": "markdown",
   "id": "2879e9b4",
   "metadata": {},
   "source": [
    "## ML Research that uses deep neural network to forecast during extreme event (UBER)\n",
    "\n",
    "In a paper entitiled [Time-series Extreme Event Forecasting with Neural Networks at Uber](http://www.cs.columbia.edu/~lierranli/publications/TSW2017_paper.pdf), reserachers from uber presents neural network architures to used to forecast during extreme events. \n",
    "\n",
    "This paper is important because it presents the use of neural network architectures to enable time-series forecasting method in high variance case that deviates from the norm. Performing during extreme cases is the ultimate test of time series forecasting models. \n",
    "\n",
    "Problems with most standard time-series forecasting packages is that they fail to perform during anomalous conditions at the scale and frequency of the transportation giant. Most statistical methods requires manual tuning to set extreme event parametes. Other methods facilitate the modeling of extreme events using exogenous variables, but they suffer from the curse of dimensionality and require frequent retraining. \n",
    "\n",
    "### The model\n",
    "Architecture with two LSTMs, one to __model uncertainty via features__ and the other one __to produce the forecast__. The first LSTM uses automated feature extraction, which is key to model complex events. Those feature vectors are then aggregated using an ensemble technique, which is passed to the second LSTM to produce a forecast.  \n",
    "\n",
    "[M3](https://m3db.io/) is a database technology developed by Uber to store time-series data."
   ]
  }
 ],
 "metadata": {
  "kernelspec": {
   "display_name": "Python 3 (ipykernel)",
   "language": "python",
   "name": "python3"
  },
  "language_info": {
   "codemirror_mode": {
    "name": "ipython",
    "version": 3
   },
   "file_extension": ".py",
   "mimetype": "text/x-python",
   "name": "python",
   "nbconvert_exporter": "python",
   "pygments_lexer": "ipython3",
   "version": "3.9.0"
  }
 },
 "nbformat": 4,
 "nbformat_minor": 5
}
